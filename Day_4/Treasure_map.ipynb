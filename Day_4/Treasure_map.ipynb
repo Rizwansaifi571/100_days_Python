{
 "cells": [
  {
   "cell_type": "markdown",
   "metadata": {},
   "source": [
    "# __Treaure Map.__\n",
    "Date : 13, Feb, 2024."
   ]
  },
  {
   "cell_type": "code",
   "execution_count": 6,
   "metadata": {},
   "outputs": [
    {
     "name": "stdout",
     "output_type": "stream",
     "text": [
      "Hiding your treasure! X mark the spot.\n",
      "[' ', ' ', 'X']\n",
      "[' ', ' ', ' ']\n",
      "[' ', ' ', ' ']\n"
     ]
    }
   ],
   "source": [
    "line1=[' ', ' ', ' ']\n",
    "line2=[' ', ' ', ' ']\n",
    "line3=[' ', ' ', ' ']\n",
    "print('Hiding your treasure! X mark the spot.')\n",
    "position=input('Enter : ')\n",
    "if position=='A1':\n",
    "    line1[0]='X'\n",
    "elif position=='A2':\n",
    "    line2[0]='X'\n",
    "elif position=='A3':\n",
    "    line3[0]='X'\n",
    "elif position=='B1':\n",
    "    line1[1]='X'\n",
    "elif position=='B2':\n",
    "    line2[1]='X'\n",
    "elif position=='B3':\n",
    "    line2[1]='X'\n",
    "elif position=='C1':\n",
    "    line1[2]='X'\n",
    "elif position=='C2':\n",
    "    line2[2]='X'\n",
    "elif position=='C3':\n",
    "    line3[2]='X'\n",
    "map=[line1, line2, line3]\n",
    "for result in map:\n",
    "    print(result)"
   ]
  }
 ],
 "metadata": {
  "kernelspec": {
   "display_name": "Python 3",
   "language": "python",
   "name": "python3"
  },
  "language_info": {
   "codemirror_mode": {
    "name": "ipython",
    "version": 3
   },
   "file_extension": ".py",
   "mimetype": "text/x-python",
   "name": "python",
   "nbconvert_exporter": "python",
   "pygments_lexer": "ipython3",
   "version": "3.11.4"
  }
 },
 "nbformat": 4,
 "nbformat_minor": 2
}
