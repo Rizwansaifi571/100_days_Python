{
 "cells": [
  {
   "cell_type": "markdown",
   "metadata": {},
   "source": [
    "# __Rock Paper Scissor.__\n",
    "Date : 13, Feb, 2024."
   ]
  },
  {
   "cell_type": "code",
   "execution_count": null,
   "metadata": {},
   "outputs": [],
   "source": [
    "import random\n",
    "print('Rock Paper Scissor Game Begain!')\n",
    "user=int(input('Enter 0 for Rock, 1 for Paper, 2 for Scissor : '))\n",
    "computer=random.randint(0, 2)\n",
    "if user==0:\n",
    "    print('user Choose : Rock')\n",
    "elif user==1:\n",
    "    print('user Choose : Paper')\n",
    "elif user==2:\n",
    "    print('user Choose : Scissor')\n",
    "\n",
    "if computer==0:\n",
    "    print('computer Choose : Rock')\n",
    "elif computer==1:\n",
    "    print('computer Choose : Paper')\n",
    "elif computer==2:\n",
    "    print('computer Choose : Scissor')\n",
    "\n",
    "if user>2 or user<0 :\n",
    "    print('Invalid input!')\n",
    "elif user==computer:\n",
    "    print(\"Draw!\")\n",
    "elif user==0 and computer==1:\n",
    "    print(\"Computer Win!\")\n",
    "elif user==0 and computer==2:\n",
    "    print(\"User Win!\")\n",
    "elif user==1 and computer==0:\n",
    "    print(\"User Win!\")\n",
    "elif user==1 and computer==2:\n",
    "    print(\"Computer Win!\")\n",
    "elif user==2 and computer==0:\n",
    "    print(\"Computer Win!\")\n",
    "elif user==2 and computer==1:\n",
    "    print(\"User Win!\")\n",
    "else : \n",
    "    print('Invalid Input')"
   ]
  }
 ],
 "metadata": {
  "kernelspec": {
   "display_name": "Python 3",
   "language": "python",
   "name": "python3"
  },
  "language_info": {
   "codemirror_mode": {
    "name": "ipython",
    "version": 3
   },
   "file_extension": ".py",
   "mimetype": "text/x-python",
   "name": "python",
   "nbconvert_exporter": "python",
   "pygments_lexer": "ipython3",
   "version": "3.11.4"
  }
 },
 "nbformat": 4,
 "nbformat_minor": 2
}
