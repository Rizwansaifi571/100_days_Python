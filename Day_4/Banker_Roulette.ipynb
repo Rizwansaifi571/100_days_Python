{
 "cells": [
  {
   "cell_type": "markdown",
   "metadata": {},
   "source": [
    "# __Banker Roulette.__\n",
    "Date : 31, Jan, 2024."
   ]
  },
  {
   "cell_type": "code",
   "execution_count": 7,
   "metadata": {},
   "outputs": [
    {
     "name": "stdout",
     "output_type": "stream",
     "text": [
      "AMAN is going to buy the meal today!\n"
     ]
    }
   ],
   "source": [
    "import random\n",
    "name=list((input(\"Enter list of name :\").split(', ')))\n",
    "name1=random.choice(name)\n",
    "\n",
    "print(f'{name1} is going to buy the meal today!')"
   ]
  },
  {
   "cell_type": "markdown",
   "metadata": {},
   "source": [
    "Method 2 :"
   ]
  },
  {
   "cell_type": "code",
   "execution_count": 9,
   "metadata": {},
   "outputs": [
    {
     "name": "stdout",
     "output_type": "stream",
     "text": [
      "IRONMAN is going to buy the meal today!\n"
     ]
    }
   ],
   "source": [
    "import random\n",
    "name=list(input('Enter list of name :').split(', '))\n",
    "len1=len(name)\n",
    "index=random.randint(0, len1-1)\n",
    "name1=name[index]\n",
    "print(f'{name1} is going to buy the meal today!')"
   ]
  }
 ],
 "metadata": {
  "kernelspec": {
   "display_name": "Python 3",
   "language": "python",
   "name": "python3"
  },
  "language_info": {
   "codemirror_mode": {
    "name": "ipython",
    "version": 3
   },
   "file_extension": ".py",
   "mimetype": "text/x-python",
   "name": "python",
   "nbconvert_exporter": "python",
   "pygments_lexer": "ipython3",
   "version": "3.11.4"
  }
 },
 "nbformat": 4,
 "nbformat_minor": 2
}
