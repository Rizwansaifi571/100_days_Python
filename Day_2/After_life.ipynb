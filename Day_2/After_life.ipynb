{
 "cells": [
  {
   "cell_type": "markdown",
   "metadata": {},
   "source": [
    "# Life In Weeks.\n",
    "Date : 25, Jan, 2024"
   ]
  },
  {
   "cell_type": "code",
   "execution_count": 4,
   "metadata": {},
   "outputs": [
    {
     "name": "stdout",
     "output_type": "stream",
     "text": [
      "\t\t\tWelcome To The Life In Weeks Program.\t\t\t\n",
      "\n",
      "The program calculates how many weeks you have left to live based on your age.\n",
      "\n",
      "You have 25550 days which means 3640 weeks and  840 in months left to live..\n",
      "Enjoy your life..\n"
     ]
    }
   ],
   "source": [
    "print(\"\\t\\t\\tWelcome To The Life In Weeks Program.\\t\\t\\t\\n\")\n",
    "print(\"The program calculates how many weeks you have left to live based on your age.\\n\")\n",
    "age = int(input(\"Enter your age :\"))\n",
    "\n",
    "years_remaining = 90 - age\n",
    "\n",
    "days = years_remaining * 365\n",
    "\n",
    "weeks = years_remaining * 52\n",
    "\n",
    "months = years_remaining * 12\n",
    "\n",
    "print(f\"You have {days} days which means {weeks} weeks and  {months} in months left to live..\\nEnjoy your life..\")"
   ]
  }
 ],
 "metadata": {
  "kernelspec": {
   "display_name": "Python 3",
   "language": "python",
   "name": "python3"
  },
  "language_info": {
   "codemirror_mode": {
    "name": "ipython",
    "version": 3
   },
   "file_extension": ".py",
   "mimetype": "text/x-python",
   "name": "python",
   "nbconvert_exporter": "python",
   "pygments_lexer": "ipython3",
   "version": "3.11.4"
  }
 },
 "nbformat": 4,
 "nbformat_minor": 2
}
