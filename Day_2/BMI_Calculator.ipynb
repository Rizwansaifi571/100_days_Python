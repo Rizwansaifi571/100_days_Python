{
 "cells": [
  {
   "cell_type": "markdown",
   "metadata": {},
   "source": [
    "# BMI Calculator.\n",
    "Date : 25, Jan, 2024"
   ]
  },
  {
   "cell_type": "code",
   "execution_count": 3,
   "metadata": {},
   "outputs": [
    {
     "name": "stdout",
     "output_type": "stream",
     "text": [
      "Your BMI is  20.57 you are Healthy.\n"
     ]
    }
   ],
   "source": [
    "weight = eval(input(\"Enter your weight :\"))\n",
    "height = eval(input(\"Enter your height in Cm :\"))\n",
    "\n",
    "height = height / 100\n",
    "\n",
    "bmi = weight / (height ** 2)\n",
    "BMI = round(bmi, 2)\n",
    "if BMI <= 18.4:\n",
    "    print(\"Your BMI is \", BMI, \"you are Underweight.\")\n",
    "elif BMI >= 18.5 and BMI <= 24.8:\n",
    "    print(\"Your BMI is \", BMI, \"you are Healthy.\")\n",
    "elif BMI >= 24.9 and BMI <= 29.9:\n",
    "    print(\"Your BMI is \", BMI, \"you are Overweight.\")\n",
    "else:\n",
    "    print(\"Your BMI is \", BMI, \"you are Obese.\")"
   ]
  }
 ],
 "metadata": {
  "kernelspec": {
   "display_name": "Python 3",
   "language": "python",
   "name": "python3"
  },
  "language_info": {
   "codemirror_mode": {
    "name": "ipython",
    "version": 3
   },
   "file_extension": ".py",
   "mimetype": "text/x-python",
   "name": "python",
   "nbconvert_exporter": "python",
   "pygments_lexer": "ipython3",
   "version": "3.11.4"
  }
 },
 "nbformat": 4,
 "nbformat_minor": 2
}
