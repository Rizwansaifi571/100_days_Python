{
 "cells": [
  {
   "cell_type": "markdown",
   "metadata": {},
   "source": [
    "# Tip Calculator.\n",
    "Date : 25, Jan, 2024."
   ]
  },
  {
   "cell_type": "code",
   "execution_count": 2,
   "metadata": {},
   "outputs": [
    {
     "name": "stdout",
     "output_type": "stream",
     "text": [
      "\t\t\tCalculate The Amount Of Tip You Should Give.\t\t\t\n",
      "\n",
      "Each person should pay : 3150.0 Rupees.\n"
     ]
    }
   ],
   "source": [
    "print(\"\\t\\t\\tCalculate The Amount Of Tip You Should Give.\\t\\t\\t\")\n",
    "\n",
    "bill = input(\"What was the total bill in Rupees : \")\n",
    "tip = input(\"What percentage tip would you like to give : \")\n",
    "members = input(\"How many people to split the bill : \")\n",
    "\n",
    "tip_amount = int(bill) * (int(tip) / 100)\n",
    "total_bill = int(bill) + tip_amount\n",
    "\n",
    "split = int(total_bill) / int(members)\n",
    "\n",
    "print(f\"\\nEach person should pay : {split} Rupees.\")"
   ]
  }
 ],
 "metadata": {
  "kernelspec": {
   "display_name": "Python 3",
   "language": "python",
   "name": "python3"
  },
  "language_info": {
   "codemirror_mode": {
    "name": "ipython",
    "version": 3
   },
   "file_extension": ".py",
   "mimetype": "text/x-python",
   "name": "python",
   "nbconvert_exporter": "python",
   "pygments_lexer": "ipython3",
   "version": "3.11.4"
  }
 },
 "nbformat": 4,
 "nbformat_minor": 2
}
