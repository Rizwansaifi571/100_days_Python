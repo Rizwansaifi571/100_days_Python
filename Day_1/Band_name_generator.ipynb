{
 "cells": [
  {
   "cell_type": "markdown",
   "metadata": {},
   "source": [
    "# Band Name Generator.  \n",
    "Date : 24, Jan, 2024"
   ]
  },
  {
   "cell_type": "code",
   "execution_count": 2,
   "metadata": {},
   "outputs": [
    {
     "name": "stdout",
     "output_type": "stream",
     "text": [
      "           < Welcome to Band-Name Generator. >\n",
      "Your band-name is now New york Tom\n"
     ]
    }
   ],
   "source": [
    "print('           < Welcome to Band-Name Generator. >'                 )\n",
    "city=input('Enter name of your City : ')\n",
    "pet=input('What should be your Pet name : ')\n",
    "print(f'Your band-name is now {city} {pet}')"
   ]
  }
 ],
 "metadata": {
  "kernelspec": {
   "display_name": "Python 3",
   "language": "python",
   "name": "python3"
  },
  "language_info": {
   "codemirror_mode": {
    "name": "ipython",
    "version": 3
   },
   "file_extension": ".py",
   "mimetype": "text/x-python",
   "name": "python",
   "nbconvert_exporter": "python",
   "pygments_lexer": "ipython3",
   "version": "3.11.4"
  }
 },
 "nbformat": 4,
 "nbformat_minor": 2
}
