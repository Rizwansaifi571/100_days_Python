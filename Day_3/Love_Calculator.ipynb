{
 "cells": [
  {
   "cell_type": "markdown",
   "metadata": {},
   "source": [
    "# Love Calculator.\n",
    "Date : 27, Jan, 2024."
   ]
  },
  {
   "cell_type": "code",
   "execution_count": null,
   "metadata": {},
   "outputs": [],
   "source": [
    "print('The Love Calculator is Calculating your Scores...')\n",
    "name1=input(\"Enter 1st Name :\")\n",
    "name2=input(\"Enter 2nd Name :\")\n",
    "\n",
    "t=name1.count('t' or \"T\") + name2.count('t' or \"T\")\n",
    "r=name1.count('r' or \"R\") + name2.count('r' or \"R\")\n",
    "u=name1.count('u' or \"U\") + name2.count('u' or \"U\")\n",
    "e=name1.count('e' or \"E\") + name2.count('e' or \"E\")\n",
    "\n",
    "Total_1=str(t+r+u+e)\n",
    "\n",
    "l=name1.count('l' or \"L\") + name2.count('l' or \"L\") \n",
    "o=name1.count('o' or \"O\") + name2.count('o' or \"O\")\n",
    "v=name1.count('v' or \"V\") + name2.count('v' or \"V\")\n",
    "e=name1.count('e' or \"E\") + name2.count('e' or \"E\")\n",
    "\n",
    "Total_2=str(l+o+v+e)\n",
    "\n",
    "Love_score= Total_1 + Total_2\n",
    "Love_score= int(Love_score)\n",
    "\n",
    "if Love_score < 10 or Love_score > 90:\n",
    "    print(f'Your score is {Love_score}, you go together like Coke and Mentos.')\n",
    "\n",
    "elif Love_score > 40 and Love_score < 50:\n",
    "    print(f'Your score is {Love_score}, you are alright together.')\n",
    "\n",
    "else :\n",
    "    print(f'Your score is {Love_score}.')"
   ]
  },
  {
   "cell_type": "markdown",
   "metadata": {},
   "source": [
    "2nd-Way."
   ]
  }
 ],
 "metadata": {
  "kernelspec": {
   "display_name": "Python 3",
   "language": "python",
   "name": "python3"
  },
  "language_info": {
   "codemirror_mode": {
    "name": "ipython",
    "version": 3
   },
   "file_extension": ".py",
   "mimetype": "text/x-python",
   "name": "python",
   "nbconvert_exporter": "python",
   "pygments_lexer": "ipython3",
   "version": "3.11.4"
  }
 },
 "nbformat": 4,
 "nbformat_minor": 2
}
