{
 "cells": [
  {
   "cell_type": "markdown",
   "metadata": {},
   "source": [
    "# Python Pizza Delivery !\n",
    "Date : 27, Jan, 2024."
   ]
  },
  {
   "cell_type": "code",
   "execution_count": 2,
   "metadata": {},
   "outputs": [
    {
     "name": "stdout",
     "output_type": "stream",
     "text": [
      "Thankyou For Choosing Python Pizza Deliveries. !\n",
      "Your Final Bill Is : Rs 280.\n"
     ]
    }
   ],
   "source": [
    "print('Thankyou For Choosing Python Pizza Deliveries. !')\n",
    "\n",
    "size=input('Enter Size of Pizza (S/M/L) :')\n",
    "peproni=input('Do You Want Peproni (Y/N) :')\n",
    "bill=0\n",
    "\n",
    "if size == 'S' :\n",
    "    bill=150\n",
    "    if peproni == 'Y' :\n",
    "        bill+=20\n",
    "\n",
    "elif size == 'M' :\n",
    "    bill=200\n",
    "    if peproni == 'Y' :\n",
    "        bill+=30\n",
    "\n",
    "else : \n",
    "    bill=250\n",
    "    if peproni == 'Y' :\n",
    "        bill+=30\n",
    "\n",
    "cheese=input(\"Do You Want Extra Cheese (Y/N) :\")\n",
    "if cheese == 'Y' :\n",
    "    bill+=1\n",
    "\n",
    "print(f'Your Final Bill Is : Rs {bill}.')"
   ]
  }
 ],
 "metadata": {
  "kernelspec": {
   "display_name": "Python 3",
   "language": "python",
   "name": "python3"
  },
  "language_info": {
   "codemirror_mode": {
    "name": "ipython",
    "version": 3
   },
   "file_extension": ".py",
   "mimetype": "text/x-python",
   "name": "python",
   "nbconvert_exporter": "python",
   "pygments_lexer": "ipython3",
   "version": "3.11.4"
  }
 },
 "nbformat": 4,
 "nbformat_minor": 2
}
