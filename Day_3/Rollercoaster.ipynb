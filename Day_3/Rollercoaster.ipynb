{
 "cells": [
  {
   "cell_type": "markdown",
   "metadata": {},
   "source": [
    "# Roller_Coaster Fee.\n",
    "Date : 26, Jan, 2024."
   ]
  },
  {
   "cell_type": "code",
   "execution_count": 9,
   "metadata": {},
   "outputs": [
    {
     "name": "stdout",
     "output_type": "stream",
     "text": [
      "You are eligible to take a ride.\n",
      "\n",
      "Adult Ticket Are RS 200.\n",
      "\n",
      "The Total Bill Of Your Ride is : 230.\n"
     ]
    }
   ],
   "source": [
    "height=int(input('Enter Your Height in Centimeter : '))\n",
    "\n",
    "if height > 120 :\n",
    "    print('You are eligible to take a ride.\\n')\n",
    "    age=int(input(\"Enter Your Age : \"))\n",
    "    photo=input('Enter you wants Photo (Y/N) :')\n",
    "    \n",
    "    bill=0\n",
    "\n",
    "    if age < 12 :\n",
    "        print('Child Ticket Are RS 100.')\n",
    "        bill = 100\n",
    "    \n",
    "    elif age <= 18 : \n",
    "            print('Youth Ticket Are RS 150.')\n",
    "            bill=150\n",
    "    \n",
    "    else :\n",
    "        print('Adult Ticket Are RS 200.')\n",
    "        bill=200\n",
    "\n",
    "    if photo=='Y':\n",
    "         bill=bill+30\n",
    "\n",
    "    print(f'\\nThe Total Bill Of Your Ride is : {bill}.')\n",
    "    \n",
    "else :\n",
    "    print('You are not eligible to take a ride.')\n",
    "\n"
   ]
  }
 ],
 "metadata": {
  "kernelspec": {
   "display_name": "Python 3",
   "language": "python",
   "name": "python3"
  },
  "language_info": {
   "codemirror_mode": {
    "name": "ipython",
    "version": 3
   },
   "file_extension": ".py",
   "mimetype": "text/x-python",
   "name": "python",
   "nbconvert_exporter": "python",
   "pygments_lexer": "ipython3",
   "version": "3.11.4"
  }
 },
 "nbformat": 4,
 "nbformat_minor": 2
}
